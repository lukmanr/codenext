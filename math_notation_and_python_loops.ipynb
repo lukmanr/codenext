{
  "nbformat": 4,
  "nbformat_minor": 0,
  "metadata": {
    "colab": {
      "name": "math_notation_and_python_loops.ipynb",
      "provenance": [],
      "toc_visible": true,
      "authorship_tag": "ABX9TyM6cRSh/oWDyFQgKubwSi2F",
      "include_colab_link": true
    },
    "kernelspec": {
      "name": "python3",
      "display_name": "Python 3"
    }
  },
  "cells": [
    {
      "cell_type": "markdown",
      "metadata": {
        "id": "view-in-github",
        "colab_type": "text"
      },
      "source": [
        "<a href=\"https://colab.research.google.com/github/lukmanr/codenext/blob/master/math_notation_and_python_loops.ipynb\" target=\"_parent\"><img src=\"https://colab.research.google.com/assets/colab-badge.svg\" alt=\"Open In Colab\"/></a>"
      ]
    },
    {
      "cell_type": "markdown",
      "metadata": {
        "id": "QrWaJPZKyjUq",
        "colab_type": "text"
      },
      "source": [
        "# Tutorial: Math notation and loops in Python #\n",
        "\n",
        "Translate the following math expressions into Python using for loops."
      ]
    },
    {
      "cell_type": "markdown",
      "metadata": {
        "id": "1AvTBbLBxb7g",
        "colab_type": "text"
      },
      "source": [
        "$$\\sum_{i=0}^{10} i$$"
      ]
    },
    {
      "cell_type": "code",
      "metadata": {
        "id": "TH_Y3TQwx3EB",
        "colab_type": "code",
        "colab": {}
      },
      "source": [
        ""
      ],
      "execution_count": 0,
      "outputs": []
    },
    {
      "cell_type": "markdown",
      "metadata": {
        "id": "TZpL2X1cx4mP",
        "colab_type": "text"
      },
      "source": [
        "$$\\sum_{i=0}^{10} (i - 3)$$"
      ]
    },
    {
      "cell_type": "code",
      "metadata": {
        "id": "70QMj6wmx-lX",
        "colab_type": "code",
        "colab": {}
      },
      "source": [
        ""
      ],
      "execution_count": 0,
      "outputs": []
    },
    {
      "cell_type": "markdown",
      "metadata": {
        "id": "Kg_RG5ToyMof",
        "colab_type": "text"
      },
      "source": [
        "This one combines arrays with loops.  In math we use a subscript to refer to the index of an array.  So $$A_i$$ means the \"i th element of A\".  Remember in Python we start arrays at index 0."
      ]
    },
    {
      "cell_type": "markdown",
      "metadata": {
        "id": "gs93O87Wx_th",
        "colab_type": "text"
      },
      "source": [
        "$$ A = [7,9,13,20] $$\n",
        "\n",
        "$$\\sum_{i=0}^{3} A_i $$"
      ]
    },
    {
      "cell_type": "code",
      "metadata": {
        "id": "XPJyswNkyIBe",
        "colab_type": "code",
        "colab": {}
      },
      "source": [
        ""
      ],
      "execution_count": 0,
      "outputs": []
    },
    {
      "cell_type": "markdown",
      "metadata": {
        "id": "F3MvSkRMz4_6",
        "colab_type": "text"
      },
      "source": [
        "A 2-D array is just a \"list of lists\" in python."
      ]
    },
    {
      "cell_type": "markdown",
      "metadata": {
        "id": "ljVLxHJuz1ad",
        "colab_type": "text"
      },
      "source": [
        "$$ B = [[7,9,13,20],[4,6,10,11]]  $$\n",
        "\n",
        "$$\\sum_{i=0,j=0} B_{ij}$$"
      ]
    },
    {
      "cell_type": "code",
      "metadata": {
        "id": "0if7rxu0z3qG",
        "colab_type": "code",
        "colab": {}
      },
      "source": [
        ""
      ],
      "execution_count": 0,
      "outputs": []
    }
  ]
}