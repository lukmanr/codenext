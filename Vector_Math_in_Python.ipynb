{
  "nbformat": 4,
  "nbformat_minor": 0,
  "metadata": {
    "colab": {
      "name": "Vector Math in TensorFlow",
      "provenance": [],
      "toc_visible": true,
      "include_colab_link": true
    },
    "kernelspec": {
      "name": "python3",
      "display_name": "Python 3"
    }
  },
  "cells": [
    {
      "cell_type": "markdown",
      "metadata": {
        "id": "view-in-github",
        "colab_type": "text"
      },
      "source": [
        "<a href=\"https://colab.research.google.com/github/lukmanr/codenext/blob/master/Vector_Math_in_Python.ipynb\" target=\"_parent\"><img src=\"https://colab.research.google.com/assets/colab-badge.svg\" alt=\"Open In Colab\"/></a>"
      ]
    },
    {
      "cell_type": "markdown",
      "metadata": {
        "id": "Z8Y4EnA40_s_",
        "colab_type": "text"
      },
      "source": [
        "#Vectors and Tensors in TensorFlow"
      ]
    },
    {
      "cell_type": "markdown",
      "metadata": {
        "id": "LKfraJZWbgLB",
        "colab_type": "text"
      },
      "source": [
        "This notebook is designed to teach you about vector math, introduces the \"tensor\", and how to perform basic vector operations in TensorFlow."
      ]
    },
    {
      "cell_type": "markdown",
      "metadata": {
        "id": "L5uT11caTCpY",
        "colab_type": "text"
      },
      "source": [
        "First we define a couple 1-D vectors.  We represent the vectors as simple arrays in Python."
      ]
    },
    {
      "cell_type": "code",
      "metadata": {
        "id": "D_Rc5XZ8b-Pd",
        "colab_type": "code",
        "colab": {}
      },
      "source": [
        "A = [1, 2, 4, 7]\n",
        "B = [2, 5, 1, 3]"
      ],
      "execution_count": 0,
      "outputs": []
    },
    {
      "cell_type": "markdown",
      "metadata": {
        "id": "yOAKCc7RbxW_",
        "colab_type": "text"
      },
      "source": [
        "Now we will see how to multiply a vector by a constant, using plain Python.  To multiply a vector by a constant, you simply multiply each of the vector elements by that constant.  Here is a code example:"
      ]
    },
    {
      "cell_type": "code",
      "metadata": {
        "id": "FxbFPK6aQsUZ",
        "colab_type": "code",
        "outputId": "683e8d47-ddd9-4c6d-aec0-c170e2cef2ac",
        "colab": {
          "base_uri": "https://localhost:8080/",
          "height": 34
        }
      },
      "source": [
        "# multiply a vector by a constant c\n",
        "c = 3\n",
        "\n",
        "for i in range(4):\n",
        "  A[i] = c * A[i]\n",
        "\n",
        "print(A)"
      ],
      "execution_count": 0,
      "outputs": [
        {
          "output_type": "stream",
          "text": [
            "[9, 18, 36, 63]\n"
          ],
          "name": "stdout"
        }
      ]
    },
    {
      "cell_type": "markdown",
      "metadata": {
        "id": "maTCHh5ZSyTa",
        "colab_type": "text"
      },
      "source": [
        "Your turn:  Write code to multiply B by the constant 5."
      ]
    },
    {
      "cell_type": "code",
      "metadata": {
        "id": "yATTp8s9STLE",
        "colab_type": "code",
        "colab": {}
      },
      "source": [
        ""
      ],
      "execution_count": 0,
      "outputs": []
    },
    {
      "cell_type": "markdown",
      "metadata": {
        "id": "Ex-k1CpccPfe",
        "colab_type": "text"
      },
      "source": [
        "Now try to update the code to multiply a vector by a constant so that it works on a vector of any length.  Make a copy of the code above, and change it so that it will work on a vector of any length. Hint: use the python ```len()``` function."
      ]
    },
    {
      "cell_type": "code",
      "metadata": {
        "id": "BiUDvPBIcouj",
        "colab_type": "code",
        "colab": {}
      },
      "source": [
        ""
      ],
      "execution_count": 0,
      "outputs": []
    },
    {
      "cell_type": "markdown",
      "metadata": {
        "id": "WZ9HsSyKcpVo",
        "colab_type": "text"
      },
      "source": [
        "Now let's write code to add two vectors together.  To add two vectors, just add their elements.  Of course this is only valid if the two vectors have the same number of elements.  Here is a code example:"
      ]
    },
    {
      "cell_type": "code",
      "metadata": {
        "id": "ptfDd1HEdLGO",
        "colab_type": "code",
        "outputId": "bb25be9b-5885-49d1-c341-831563d5b5e6",
        "colab": {
          "base_uri": "https://localhost:8080/",
          "height": 34
        }
      },
      "source": [
        "C = [0,0,0,0]\n",
        "\n",
        "for i in range(4):\n",
        "  C[i] = A[i] + B[i]\n",
        "\n",
        "print(A, \"+\", B, \"=\", C)"
      ],
      "execution_count": 0,
      "outputs": [
        {
          "output_type": "stream",
          "text": [
            "[9, 18, 36, 63] + [2, 5, 1, 3] = [11, 23, 37, 66]\n"
          ],
          "name": "stdout"
        }
      ]
    },
    {
      "cell_type": "markdown",
      "metadata": {
        "id": "3LPv6IWnfCtF",
        "colab_type": "text"
      },
      "source": [
        "Can you update the addition code to work on a vector of any length?  This may be trickier than it sounds.  If you are having trouble, ask me for a hint."
      ]
    },
    {
      "cell_type": "code",
      "metadata": {
        "id": "UU2V0Ly-fBKS",
        "colab_type": "code",
        "colab": {}
      },
      "source": [
        ""
      ],
      "execution_count": 0,
      "outputs": []
    },
    {
      "cell_type": "markdown",
      "metadata": {
        "id": "2S2KsW61pom2",
        "colab_type": "text"
      },
      "source": [
        "Subtracting vectors works exactly the same as addition - you simply subtract each of the vector elements.  \n",
        "\n",
        "1.   Update your code above to perform subtraction.  \n",
        "2.   Wrap your code in two methods, one for addition, and one for subtraction, so you can pass two vectors of any size, and return the result of adding/subtracting them.\n",
        "\n"
      ]
    },
    {
      "cell_type": "code",
      "metadata": {
        "id": "LWOj9wVvpnRK",
        "colab_type": "code",
        "colab": {}
      },
      "source": [
        ""
      ],
      "execution_count": 0,
      "outputs": []
    },
    {
      "cell_type": "markdown",
      "metadata": {
        "id": "1kwqfQrJqVvO",
        "colab_type": "text"
      },
      "source": [
        "One more operation to learn before we learn how to do all this in TensorFlow.  We have covered addition and subtraction, but what about multiplication?  There are more than one way to multiply vectors.  The most common one we will see is called the \"dot product\".  The dot product is written like this:  $ A \\cdot B $. The result of a dot product is a scalar.  The code below shows how to perform a dot product:"
      ]
    },
    {
      "cell_type": "code",
      "metadata": {
        "id": "OoQnftzCquOe",
        "colab_type": "code",
        "outputId": "cbd0b4d8-91c1-4e0c-a710-0e017f765907",
        "colab": {
          "base_uri": "https://localhost:8080/",
          "height": 34
        }
      },
      "source": [
        "A_dot_B = (A[0] * B[0]) + (A[1] * B[1]) + (A[2] * B[2]) + (A[3] * B[3])\n",
        "print(A_dot_B)"
      ],
      "execution_count": 0,
      "outputs": [
        {
          "output_type": "stream",
          "text": [
            "333\n"
          ],
          "name": "stdout"
        }
      ]
    },
    {
      "cell_type": "markdown",
      "metadata": {
        "id": "JL15-cf-te6k",
        "colab_type": "text"
      },
      "source": [
        "Now try to write a method that will perform the dot product on two vectors of any length.\n"
      ]
    },
    {
      "cell_type": "code",
      "metadata": {
        "id": "_B_-GvhLu_MH",
        "colab_type": "code",
        "colab": {}
      },
      "source": [
        ""
      ],
      "execution_count": 0,
      "outputs": []
    },
    {
      "cell_type": "markdown",
      "metadata": {
        "id": "1aNJueXNvNLt",
        "colab_type": "text"
      },
      "source": [
        "Now we are ready to try TensorFlow!  First we have to import TensorFlow.  Note we use a special statement that starts with a $ to tell colab that we want to use TensorFlow 2.x in this notebook.  These commands are called \"magic commands\" and there are a lot of them available in colab notebooks.  You can read [the docs](https://colab.research.google.com/github/jakevdp/PythonDataScienceHandbook/blob/master/notebooks/01.03-Magic-Commands.ipynb) to learn more."
      ]
    },
    {
      "cell_type": "code",
      "metadata": {
        "id": "ABWRpw4MPbUr",
        "colab_type": "code",
        "outputId": "c29714d2-7660-465f-b0a5-268ddf9264ed",
        "colab": {
          "base_uri": "https://localhost:8080/",
          "height": 34
        }
      },
      "source": [
        "%tensorflow_version 2.x\n",
        "import tensorflow as tf"
      ],
      "execution_count": 0,
      "outputs": [
        {
          "output_type": "stream",
          "text": [
            "TensorFlow 2.x selected.\n"
          ],
          "name": "stdout"
        }
      ]
    },
    {
      "cell_type": "markdown",
      "metadata": {
        "id": "8-MboVv116Kz",
        "colab_type": "text"
      },
      "source": [
        "TensorFlow 2.x is a lot easier to use than TensorFlow 1.x.  I recommend you always use TensorFlow 2.x when coding something new in TensorFlow.  You might need to use TensorFlow 1.x if you are using someone else's code that was already written in TensorFlow 1.x."
      ]
    },
    {
      "cell_type": "markdown",
      "metadata": {
        "id": "XOjqTZNcw5lf",
        "colab_type": "text"
      },
      "source": [
        "Here is how we define the same vectors as we used before, in TensorFlow. "
      ]
    },
    {
      "cell_type": "code",
      "metadata": {
        "id": "XtJmYnNPwMbd",
        "colab_type": "code",
        "outputId": "379752a9-7443-4ca6-b5ab-3be343502dcc",
        "colab": {
          "base_uri": "https://localhost:8080/",
          "height": 51
        }
      },
      "source": [
        "A = tf.constant([1, 2, 4, 7])\n",
        "\n",
        "B = tf.constant([2, 5, 1, 3])\n",
        "\n",
        "print(A)\n",
        "print(B)"
      ],
      "execution_count": 0,
      "outputs": [
        {
          "output_type": "stream",
          "text": [
            "tf.Tensor([1 2 4 7], shape=(4,), dtype=int32)\n",
            "tf.Tensor([2 5 1 3], shape=(4,), dtype=int32)\n"
          ],
          "name": "stdout"
        }
      ]
    },
    {
      "cell_type": "markdown",
      "metadata": {
        "id": "3i_94r51xJVv",
        "colab_type": "text"
      },
      "source": [
        "Note that when we print the variables in TensorFlow, we get a different result than when we print in regular python.  TensorFlow calls these variables \"tensors\".  It also prints a couple other attributes, the \"shape\" of the Tensor, and the \"dtype\".  The \"shape\" tells us the dimensions and size of each dimension of the Tensor (in this case, 1-D of size 4). The dtype tells us the data type of the elements of the Tensor, in this case int32.  All of the elements of a Tensor must have the same dtype.  If we want to specify a different dtype, we can do that by passing a dtype attribute when we create the Tensor.  For example, here is how to create a Tensor that contains floating point numbers:"
      ]
    },
    {
      "cell_type": "code",
      "metadata": {
        "id": "JUpKIat10FFJ",
        "colab_type": "code",
        "outputId": "9fac2041-9e2d-4554-fe16-842cc4cb6dcb",
        "colab": {
          "base_uri": "https://localhost:8080/",
          "height": 34
        }
      },
      "source": [
        "D = tf.constant([1, 2, 1, 3], dtype=float)\n",
        "print(D)"
      ],
      "execution_count": 0,
      "outputs": [
        {
          "output_type": "stream",
          "text": [
            "tf.Tensor([1. 2. 1. 3.], shape=(4,), dtype=float32)\n"
          ],
          "name": "stdout"
        }
      ]
    },
    {
      "cell_type": "markdown",
      "metadata": {
        "id": "9aN6Gm_Y2d0a",
        "colab_type": "text"
      },
      "source": [
        "Let's add tensors.  This is easy in TensorFlow - just use the `tf.add` method:\n"
      ]
    },
    {
      "cell_type": "code",
      "metadata": {
        "id": "nueas75nwbLe",
        "colab_type": "code",
        "outputId": "51b93deb-bd8f-4d58-cf9c-cb70cf903c3a",
        "colab": {
          "base_uri": "https://localhost:8080/",
          "height": 34
        }
      },
      "source": [
        "C = tf.add(A, B)\n",
        "print(C)"
      ],
      "execution_count": 0,
      "outputs": [
        {
          "output_type": "stream",
          "text": [
            "tf.Tensor([ 3  7  5 10], shape=(4,), dtype=int32)\n"
          ],
          "name": "stdout"
        }
      ]
    },
    {
      "cell_type": "markdown",
      "metadata": {
        "id": "i7kC_Bju8nU7",
        "colab_type": "text"
      },
      "source": [
        "Try defining two tensors of shape (5,), then adding them together using `tf.add`."
      ]
    },
    {
      "cell_type": "code",
      "metadata": {
        "id": "BFLCOvWy8n6M",
        "colab_type": "code",
        "colab": {}
      },
      "source": [
        ""
      ],
      "execution_count": 0,
      "outputs": []
    },
    {
      "cell_type": "markdown",
      "metadata": {
        "id": "N1jjuV8043DB",
        "colab_type": "text"
      },
      "source": [
        "Multiplying a tensor by a constant is also easy, using the `tf.multiply` method:"
      ]
    },
    {
      "cell_type": "code",
      "metadata": {
        "id": "5L_qq7eR28OL",
        "colab_type": "code",
        "outputId": "4c6d0beb-a79b-4911-d0bf-19695a78ef0a",
        "colab": {
          "base_uri": "https://localhost:8080/",
          "height": 34
        }
      },
      "source": [
        "tf.multiply(3, A)"
      ],
      "execution_count": 0,
      "outputs": [
        {
          "output_type": "execute_result",
          "data": {
            "text/plain": [
              "<tf.Tensor: shape=(4,), dtype=int32, numpy=array([ 3,  6, 12, 21], dtype=int32)>"
            ]
          },
          "metadata": {
            "tags": []
          },
          "execution_count": 21
        }
      ]
    },
    {
      "cell_type": "markdown",
      "metadata": {
        "id": "XX78CMgf7CN2",
        "colab_type": "text"
      },
      "source": [
        "There are a few different ways to do a dot product in TensorFlow.  One way is the `tf.tensordot` method.  It requires you to specify an \"axis\", or dimension, that you want to multiply.  This is because this method is designed to work with tensors of arbitrary shape.  You have to tell TensorFlow which dimension, or axis, you want to perform the dot product on."
      ]
    },
    {
      "cell_type": "code",
      "metadata": {
        "id": "tWdBGkiG3eR2",
        "colab_type": "code",
        "outputId": "11049ca8-4c23-459f-fe5a-09dff567e54f",
        "colab": {
          "base_uri": "https://localhost:8080/",
          "height": 34
        }
      },
      "source": [
        "tf.tensordot(A, B, 1)"
      ],
      "execution_count": 0,
      "outputs": [
        {
          "output_type": "execute_result",
          "data": {
            "text/plain": [
              "<tf.Tensor: shape=(), dtype=int32, numpy=37>"
            ]
          },
          "metadata": {
            "tags": []
          },
          "execution_count": 25
        }
      ]
    },
    {
      "cell_type": "markdown",
      "metadata": {
        "id": "ZKwkLDVy8Ab1",
        "colab_type": "text"
      },
      "source": [
        "You can also use `tf.reduce_sum(tf.multiply(x, y))`.  The method `tf.multiply` multiplies each element in x by the corresponding element of y.  The method `tf.reduce_sum` adds all the elements of a tensor.  Now use those two methods to perform the dot product of the two 5 rank tensors you defined above."
      ]
    },
    {
      "cell_type": "code",
      "metadata": {
        "id": "_Zb8Vt-33hDA",
        "colab_type": "code",
        "colab": {}
      },
      "source": [
        ""
      ],
      "execution_count": 0,
      "outputs": []
    }
  ]
}