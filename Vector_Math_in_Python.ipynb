{
  "nbformat": 4,
  "nbformat_minor": 0,
  "metadata": {
    "colab": {
      "name": "Vector Math in TensorFlow",
      "provenance": [],
      "toc_visible": true,
      "include_colab_link": true
    },
    "kernelspec": {
      "name": "python3",
      "display_name": "Python 3"
    }
  },
  "cells": [
    {
      "cell_type": "markdown",
      "metadata": {
        "id": "view-in-github",
        "colab_type": "text"
      },
      "source": [
        "<a href=\"https://colab.research.google.com/github/lukmanr/codenext/blob/master/Vector_Math_in_Python.ipynb\" target=\"_parent\"><img src=\"https://colab.research.google.com/assets/colab-badge.svg\" alt=\"Open In Colab\"/></a>"
      ]
    },
    {
      "cell_type": "markdown",
      "metadata": {
        "id": "Z8Y4EnA40_s_",
        "colab_type": "text"
      },
      "source": [
        "#Vectors in Python"
      ]
    },
    {
      "cell_type": "markdown",
      "metadata": {
        "id": "LKfraJZWbgLB",
        "colab_type": "text"
      },
      "source": [
        "This notebook is designed to teach you about vector math and how to perform basic vector operations in Python."
      ]
    },
    {
      "cell_type": "markdown",
      "metadata": {
        "id": "L5uT11caTCpY",
        "colab_type": "text"
      },
      "source": [
        "First we define a couple 1-D vectors.  We represent the vectors as simple arrays in Python."
      ]
    },
    {
      "cell_type": "code",
      "metadata": {
        "id": "D_Rc5XZ8b-Pd",
        "colab_type": "code",
        "colab": {}
      },
      "source": [
        "A = [1, 2, 4, 7]\n",
        "B = [2, 5, 1, 3]"
      ],
      "execution_count": 0,
      "outputs": []
    },
    {
      "cell_type": "markdown",
      "metadata": {
        "id": "yOAKCc7RbxW_",
        "colab_type": "text"
      },
      "source": [
        "Now we will see how to multiply a vector by a constant, using plain Python.  To multiply a vector by a constant, you simply multiply each of the vector elements by that constant.  Here is a code example:"
      ]
    },
    {
      "cell_type": "code",
      "metadata": {
        "id": "FxbFPK6aQsUZ",
        "colab_type": "code",
        "outputId": "683e8d47-ddd9-4c6d-aec0-c170e2cef2ac",
        "colab": {
          "base_uri": "https://localhost:8080/",
          "height": 34
        }
      },
      "source": [
        "# multiply a vector by a constant c\n",
        "c = 3\n",
        "\n",
        "for i in range(4):\n",
        "  A[i] = c * A[i]\n",
        "\n",
        "print(A)"
      ],
      "execution_count": 0,
      "outputs": [
        {
          "output_type": "stream",
          "text": [
            "[9, 18, 36, 63]\n"
          ],
          "name": "stdout"
        }
      ]
    },
    {
      "cell_type": "markdown",
      "metadata": {
        "id": "maTCHh5ZSyTa",
        "colab_type": "text"
      },
      "source": [
        "Your turn:  Write code to multiply B by the constant 5."
      ]
    },
    {
      "cell_type": "code",
      "metadata": {
        "id": "yATTp8s9STLE",
        "colab_type": "code",
        "colab": {}
      },
      "source": [
        ""
      ],
      "execution_count": 0,
      "outputs": []
    },
    {
      "cell_type": "markdown",
      "metadata": {
        "id": "Ex-k1CpccPfe",
        "colab_type": "text"
      },
      "source": [
        "Now try to update the code to multiply a vector by a constant so that it works on a vector of any length.  Make a copy of the code above, and change it so that it will work on a vector of any length. Hint: use the python ```len()``` function."
      ]
    },
    {
      "cell_type": "code",
      "metadata": {
        "id": "BiUDvPBIcouj",
        "colab_type": "code",
        "colab": {}
      },
      "source": [
        ""
      ],
      "execution_count": 0,
      "outputs": []
    },
    {
      "cell_type": "markdown",
      "metadata": {
        "id": "WZ9HsSyKcpVo",
        "colab_type": "text"
      },
      "source": [
        "Now let's write code to add two vectors together.  To add two vectors, just add their elements.  Of course this is only valid if the two vectors have the same number of elements.  Here is a code example:"
      ]
    },
    {
      "cell_type": "code",
      "metadata": {
        "id": "ptfDd1HEdLGO",
        "colab_type": "code",
        "outputId": "bb25be9b-5885-49d1-c341-831563d5b5e6",
        "colab": {
          "base_uri": "https://localhost:8080/",
          "height": 34
        }
      },
      "source": [
        "C = [0,0,0,0]\n",
        "\n",
        "for i in range(4):\n",
        "  C[i] = A[i] + B[i]\n",
        "\n",
        "print(A, \"+\", B, \"=\", C)"
      ],
      "execution_count": 0,
      "outputs": [
        {
          "output_type": "stream",
          "text": [
            "[9, 18, 36, 63] + [2, 5, 1, 3] = [11, 23, 37, 66]\n"
          ],
          "name": "stdout"
        }
      ]
    },
    {
      "cell_type": "markdown",
      "metadata": {
        "id": "3LPv6IWnfCtF",
        "colab_type": "text"
      },
      "source": [
        "Can you update the addition code to work on a vector of any length?  This may be trickier than it sounds.  If you are having trouble, ask me for a hint."
      ]
    },
    {
      "cell_type": "code",
      "metadata": {
        "id": "UU2V0Ly-fBKS",
        "colab_type": "code",
        "colab": {}
      },
      "source": [
        ""
      ],
      "execution_count": 0,
      "outputs": []
    },
    {
      "cell_type": "markdown",
      "metadata": {
        "id": "2S2KsW61pom2",
        "colab_type": "text"
      },
      "source": [
        "Subtracting vectors works exactly the same as addition - you simply subtract each of the vector elements.  \n",
        "\n",
        "1.   Update your code above to perform subtraction.  \n",
        "2.   Wrap your code in two methods, one for addition, and one for subtraction, so you can pass two vectors of any size, and return the result of adding/subtracting them.\n",
        "\n"
      ]
    },
    {
      "cell_type": "code",
      "metadata": {
        "id": "LWOj9wVvpnRK",
        "colab_type": "code",
        "colab": {}
      },
      "source": [
        ""
      ],
      "execution_count": 0,
      "outputs": []
    },
    {
      "cell_type": "markdown",
      "metadata": {
        "id": "1kwqfQrJqVvO",
        "colab_type": "text"
      },
      "source": [
        "One more operation to learn.  We have covered addition and subtraction, but what about multiplication?  There are more than one way to multiply vectors.  The most common one we will see is called the \"dot product\".  The dot product is written like this:  $ A \\cdot B $. The result of a dot product is a scalar.  The code below shows how to perform a dot product:"
      ]
    },
    {
      "cell_type": "code",
      "metadata": {
        "id": "OoQnftzCquOe",
        "colab_type": "code",
        "outputId": "cbd0b4d8-91c1-4e0c-a710-0e017f765907",
        "colab": {
          "base_uri": "https://localhost:8080/",
          "height": 34
        }
      },
      "source": [
        "A_dot_B = (A[0] * B[0]) + (A[1] * B[1]) + (A[2] * B[2]) + (A[3] * B[3])\n",
        "print(A_dot_B)"
      ],
      "execution_count": 0,
      "outputs": [
        {
          "output_type": "stream",
          "text": [
            "333\n"
          ],
          "name": "stdout"
        }
      ]
    },
    {
      "cell_type": "markdown",
      "metadata": {
        "id": "JL15-cf-te6k",
        "colab_type": "text"
      },
      "source": [
        "Now try to write a method that will perform the dot product on two vectors of any length.\n"
      ]
    },
    {
      "cell_type": "code",
      "metadata": {
        "id": "_B_-GvhLu_MH",
        "colab_type": "code",
        "colab": {}
      },
      "source": [
        ""
      ],
      "execution_count": 0,
      "outputs": []
    }
  ]
}