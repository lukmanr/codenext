{
  "nbformat": 4,
  "nbformat_minor": 0,
  "metadata": {
    "colab": {
      "name": "Training_Loop_in_TensorFlow.ipynb",
      "provenance": [],
      "authorship_tag": "ABX9TyNN+XrI7sFPbv8YbkcaRUCo",
      "include_colab_link": true
    },
    "kernelspec": {
      "name": "python3",
      "display_name": "Python 3"
    }
  },
  "cells": [
    {
      "cell_type": "markdown",
      "metadata": {
        "id": "view-in-github",
        "colab_type": "text"
      },
      "source": [
        "<a href=\"https://colab.research.google.com/github/lukmanr/codenext/blob/master/Training_Loop_in_TensorFlow.ipynb\" target=\"_parent\"><img src=\"https://colab.research.google.com/assets/colab-badge.svg\" alt=\"Open In Colab\"/></a>"
      ]
    },
    {
      "cell_type": "code",
      "metadata": {
        "id": "uxLvKF-kYASA",
        "colab_type": "code",
        "colab": {}
      },
      "source": [
        "%tensorflow_version 2.x\n",
        "import tensorflow as tf"
      ],
      "execution_count": 0,
      "outputs": []
    },
    {
      "cell_type": "code",
      "metadata": {
        "id": "yh-hcgQtYJ3U",
        "colab_type": "code",
        "colab": {}
      },
      "source": [
        "# weights W[784, 10]   784=28*28\n",
        "W = tf.Variable(tf.zeros([784, 10]))\n",
        "\n",
        "# biases b[10]\n",
        "b = tf.Variable(tf.zeros([10]))"
      ],
      "execution_count": 0,
      "outputs": []
    },
    {
      "cell_type": "code",
      "metadata": {
        "id": "peKxURjDdjLc",
        "colab_type": "code",
        "colab": {}
      },
      "source": [
        "# load the MNIST data set. The training set and test set are split\n",
        "# automatically. \n",
        "(x_train, y_train), (x_test, y_test) = tf.keras.datasets.mnist.load_data()"
      ],
      "execution_count": 0,
      "outputs": []
    },
    {
      "cell_type": "code",
      "metadata": {
        "id": "aBJsiF63gSrE",
        "colab_type": "code",
        "colab": {}
      },
      "source": [
        "# convert the integer pixel values to floats\n",
        "x_train = x_train / 255.0\n",
        "x_test = x_test / 255.0\n",
        "\n",
        "# reshape the images to be 2-D tensors of 1 x 784 pixels\n",
        "x_train = x_train.reshape([-1, 1, 784])\n",
        "x_test = x_test.reshape([-1, 1, 784])"
      ],
      "execution_count": 0,
      "outputs": []
    },
    {
      "cell_type": "code",
      "metadata": {
        "id": "A8iMYM39gfIw",
        "colab_type": "code",
        "colab": {}
      },
      "source": [
        "# The neural network\n",
        "def neural_network(X, W, b):\n",
        "  Inputs = tf.matmul(X, W) + b\n",
        "  Y = tf.nn.softmax(Inputs)\n",
        "  return Y"
      ],
      "execution_count": 0,
      "outputs": []
    },
    {
      "cell_type": "code",
      "metadata": {
        "id": "QsmqazsridHB",
        "colab_type": "code",
        "colab": {}
      },
      "source": [
        "# The loss function\n",
        "def loss(Y, Y_l):\n",
        "  return tf.reduce_sum(tf.square(Y - Y_l))"
      ],
      "execution_count": 0,
      "outputs": []
    },
    {
      "cell_type": "code",
      "metadata": {
        "id": "oT7AiAqHlHWl",
        "colab_type": "code",
        "colab": {}
      },
      "source": [
        "num_epochs = 1\n",
        "learning_rate = 0.01\n",
        "\n",
        "# the outer training loop:  repeat for num_epochs\n",
        "for e in range(num_epochs):\n",
        "\n",
        "    # the inner training loop: train on one image and label from the data set\n",
        "    for image, label in zip(x_train, y_train):\n",
        "\n",
        "        # convert the image and label to tensors\n",
        "        X = tf.Variable(image, dtype=tf.float32)\n",
        "        Y_l = tf.Variable(label, dtype=tf.float32)        \n",
        "\n",
        "        # we wrap this 'with' statement around the next two lines, to tell \n",
        "        # TensorFlow to auto-compute the gradients\n",
        "        with tf.GradientTape() as tape:\n",
        "            # now get the output of the neural net\n",
        "            Y = neural_network(X, W, b)\n",
        "\n",
        "            # compute the loss function \n",
        "            current_loss = loss(Y, Y_l)\n",
        "\n",
        "        # compute the gradients of the weights and biases with respect to the\n",
        "        # loss function\n",
        "        dW, db = tape.gradient(current_loss, [W, b])\n",
        "\n",
        "        # update the weights and biases, by multiplying the gradients by the\n",
        "        # learning rate\n",
        "        W.assign(W + learning_rate * dW)\n",
        "        b.assign(b + learning_rate * db)\n",
        "\n",
        "        print(current_loss.numpy())"
      ],
      "execution_count": 0,
      "outputs": []
    }
  ]
}