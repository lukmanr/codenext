{
  "nbformat": 4,
  "nbformat_minor": 0,
  "metadata": {
    "colab": {
      "name": "Neuron_inputs_and_outputs_in_TensorFlow.ipynb",
      "provenance": [],
      "authorship_tag": "ABX9TyOrFSXT8i/shSe8Oxmj9iN3",
      "include_colab_link": true
    },
    "kernelspec": {
      "name": "python3",
      "display_name": "Python 3"
    }
  },
  "cells": [
    {
      "cell_type": "markdown",
      "metadata": {
        "id": "view-in-github",
        "colab_type": "text"
      },
      "source": [
        "<a href=\"https://colab.research.google.com/github/lukmanr/codenext/blob/master/Neuron_inputs_and_outputs_in_TensorFlow.ipynb\" target=\"_parent\"><img src=\"https://colab.research.google.com/assets/colab-badge.svg\" alt=\"Open In Colab\"/></a>"
      ]
    },
    {
      "cell_type": "markdown",
      "metadata": {
        "id": "QgcponUENRoJ",
        "colab_type": "text"
      },
      "source": [
        "# Introduction to Neural Networks \n",
        "## Compute the inputs and outputs of Artificial Neurons, in Python and TensorFlow\n",
        "In this notebook we will learn how to compute the input and output of \"artificial neurons\" in Python.  We will also learn how to do this using TensorFlow.\n"
      ]
    },
    {
      "cell_type": "markdown",
      "metadata": {
        "id": "h4pSEKF1NKD1",
        "colab_type": "text"
      },
      "source": [
        "We are going to use a very simple neural network in this example, with six inputs, and two neurons.  It looks like this: ![Simple Neural Network](https://i.imgur.com/IgrXRdD.png)"
      ]
    },
    {
      "cell_type": "code",
      "metadata": {
        "id": "KOG-rN5mATuw",
        "colab_type": "code",
        "colab": {}
      },
      "source": [
        "# First let's define the inputs of the network. We have six network inputs.\n",
        "X = [5.0, 6.0, 4.0, 3.0, 10.0, 1.0]\n",
        "\n",
        "# Now lets define two neurons ('neuron 0' and 'neuron 1'). This array holds the inputs of the neurons:\n",
        "N_input = [0.0, 0.0]\n",
        "\n",
        "# and this array holds the outputs of the neurons:\n",
        "N_output = [0.0, 0.0]\n",
        "\n",
        "# Finally some weights.  We create one array of weights for each neuron.  Each weight connects\n",
        "# a network input to a neuron, and we have six inputs, so we have six weights for each neuron.\n",
        "W0 = [0.1, -0.2, 2.0, 3.1, -2.5, 4.1]\n",
        "\n",
        "W1 = [-2.0, -3.0, 1.5, 2.0, 4.0, 1.0]"
      ],
      "execution_count": 0,
      "outputs": []
    },
    {
      "cell_type": "markdown",
      "metadata": {
        "id": "zLCAkMWpDIFz",
        "colab_type": "text"
      },
      "source": [
        "First let's compute the inputs of the neurons.  Start with neuron 0. Complete the 'for' loop that computes the input for neuron 0, by replacing the '?'s below with the correct code.  "
      ]
    },
    {
      "cell_type": "code",
      "metadata": {
        "id": "SXOLj5rbDUzc",
        "colab_type": "code",
        "colab": {}
      },
      "source": [
        "for j in range(?):\n",
        "   N_input[?] = N_input[?] + W?[?] * X[?]\n",
        "\n",
        "print(N_input[?])"
      ],
      "execution_count": 0,
      "outputs": []
    },
    {
      "cell_type": "markdown",
      "metadata": {
        "id": "Mgkw4KIHFSsm",
        "colab_type": "text"
      },
      "source": [
        "Now write the 'for' loop to compute the input of second neuron.  Print the input after calculating it."
      ]
    },
    {
      "cell_type": "code",
      "metadata": {
        "id": "sjl5lXxFFgvX",
        "colab_type": "code",
        "colab": {}
      },
      "source": [
        ""
      ],
      "execution_count": 0,
      "outputs": []
    },
    {
      "cell_type": "markdown",
      "metadata": {
        "id": "ybfhER15I60x",
        "colab_type": "text"
      },
      "source": [
        "Now write a nested 'for' loop that computes the inputs for both neurons.  Use the variable 'i' for the outer loop, and 'j' for the inner loop."
      ]
    },
    {
      "cell_type": "code",
      "metadata": {
        "id": "ybCQxDgHJJxT",
        "colab_type": "code",
        "colab": {}
      },
      "source": [
        ""
      ],
      "execution_count": 0,
      "outputs": []
    },
    {
      "cell_type": "markdown",
      "metadata": {
        "id": "z596lrjaF_vz",
        "colab_type": "text"
      },
      "source": [
        "Now let's compute the outputs of the neurons.  The output of the neuron is obtained by applying the activation function to the input:  $ output = f(input) $, where $ f $ is the 'activation function'.  First let's define an activation function.  This particular activation function is called \"the sigmoid\".  The \"math.exp\" function in Python is $ e^x $."
      ]
    },
    {
      "cell_type": "code",
      "metadata": {
        "id": "lp8gyzOcGtb8",
        "colab_type": "code",
        "colab": {}
      },
      "source": [
        "import math\n",
        "\n",
        "def f(input):\n",
        "  output = 1 / (1 + math.exp(-input))\n",
        "  return output\n"
      ],
      "execution_count": 0,
      "outputs": []
    },
    {
      "cell_type": "markdown",
      "metadata": {
        "id": "E6ncgFqaH2ug",
        "colab_type": "text"
      },
      "source": [
        "Let's graph the sigmoid activation function.  The Python library ```matplotlib``` is useful for making graphs. "
      ]
    },
    {
      "cell_type": "code",
      "metadata": {
        "id": "EHhdIl9NS8vZ",
        "colab_type": "code",
        "colab": {}
      },
      "source": [
        "import numpy as np\n",
        "import matplotlib.pyplot as plt\n",
        "\n",
        "xvals = np.arange(-10, 10, 0.1) # Grid of 0.1 spacing from -10 to 10\n",
        "vf = np.vectorize(f)            # 'vectorize' f for numpy\n",
        "yvals = vf(xvals)               # Evaluate function on xvals\n",
        "plt.plot(xvals, yvals)          # Create line plot with yvals against xvals\n",
        "plt.grid(True)                  # Show grid lines\n",
        "plt.show()                      # Show the figure"
      ],
      "execution_count": 0,
      "outputs": []
    },
    {
      "cell_type": "markdown",
      "metadata": {
        "id": "3JA9aRv-ZSJM",
        "colab_type": "text"
      },
      "source": [
        "Ok, now complete the lines of Python below to compute the output of neuron 0 and neuron 1:"
      ]
    },
    {
      "cell_type": "code",
      "metadata": {
        "id": "hAU6O7Q4ZesD",
        "colab_type": "code",
        "colab": {}
      },
      "source": [
        "N_output[0] = ?\n",
        "\n",
        "N_output[1] = ?"
      ],
      "execution_count": 0,
      "outputs": []
    },
    {
      "cell_type": "markdown",
      "metadata": {
        "id": "PzgW5q-ealqo",
        "colab_type": "text"
      },
      "source": [
        "Now make a new 2-D array W, that contains the weights of both neurons:"
      ]
    },
    {
      "cell_type": "code",
      "metadata": {
        "id": "3TxIJqyYa1LU",
        "colab_type": "code",
        "colab": {}
      },
      "source": [
        "W[0] = ?\n",
        "W[1] = ?\n",
        "\n",
        "print(W)"
      ],
      "execution_count": 0,
      "outputs": []
    },
    {
      "cell_type": "markdown",
      "metadata": {
        "id": "kfitNheSZ1JX",
        "colab_type": "text"
      },
      "source": [
        "Finally, write a nested for loop to compute the outputs of both neurons using your new weight array:"
      ]
    },
    {
      "cell_type": "code",
      "metadata": {
        "id": "-zoM9kVaaHr1",
        "colab_type": "code",
        "colab": {}
      },
      "source": [
        ""
      ],
      "execution_count": 0,
      "outputs": []
    },
    {
      "cell_type": "markdown",
      "metadata": {
        "id": "tyYUWRO1Lv2f",
        "colab_type": "text"
      },
      "source": [
        "Ok, time to try this in TensorFlow.  First we import TensorFlow 2, just like we did last time.  Remember that TensorFlow 2 is a lot easier to use than TensorFlow 1 so we always use version 2 if we have the choice.  Colab defaults to TensorFlow 1.x, so we have to tell colab to use version 2.x using a special \"magic command\" on the first line, the one that starts with a '%'. "
      ]
    },
    {
      "cell_type": "code",
      "metadata": {
        "id": "N8727kBhLfl8",
        "colab_type": "code",
        "colab": {}
      },
      "source": [
        "%tensorflow_version 2.x\n",
        "import tensorflow as tf"
      ],
      "execution_count": 0,
      "outputs": []
    },
    {
      "cell_type": "markdown",
      "metadata": {
        "id": "-psBJW1jci6I",
        "colab_type": "text"
      },
      "source": [
        "Now let's define our network inputs:\n"
      ]
    },
    {
      "cell_type": "code",
      "metadata": {
        "id": "Z1egcRjCctTE",
        "colab_type": "code",
        "colab": {}
      },
      "source": [
        "Xt = tf.constant(X)"
      ],
      "execution_count": 0,
      "outputs": []
    },
    {
      "cell_type": "markdown",
      "metadata": {
        "id": "mqzqZuXGc1IL",
        "colab_type": "text"
      },
      "source": [
        "In notebooks, if you just put a variable by itself on a line, the notebook will print the variable:"
      ]
    },
    {
      "cell_type": "code",
      "metadata": {
        "id": "_KffNdyLcxOe",
        "colab_type": "code",
        "colab": {}
      },
      "source": [
        "Xt"
      ],
      "execution_count": 0,
      "outputs": []
    },
    {
      "cell_type": "markdown",
      "metadata": {
        "id": "g606d_FVdrlI",
        "colab_type": "text"
      },
      "source": [
        "Now let's make the weights."
      ]
    },
    {
      "cell_type": "code",
      "metadata": {
        "id": "WJkNTd3Mc_Fx",
        "colab_type": "code",
        "colab": {}
      },
      "source": [
        "Wt = tf.constant([W0, W1])\n",
        "Wt"
      ],
      "execution_count": 0,
      "outputs": []
    },
    {
      "cell_type": "markdown",
      "metadata": {
        "id": "MXIwFZNyda_8",
        "colab_type": "text"
      },
      "source": [
        "Note the 'shape' of the weights.  It is (2, 6), meaning a 2-d tensor of 6 elements in each row."
      ]
    },
    {
      "cell_type": "markdown",
      "metadata": {
        "id": "wRAz6CpaixdX",
        "colab_type": "text"
      },
      "source": [
        "Now compute the inputs:"
      ]
    },
    {
      "cell_type": "code",
      "metadata": {
        "id": "J_IHrPm9dVsK",
        "colab_type": "code",
        "colab": {}
      },
      "source": [
        "N_input[0] = tf.reduce_sum(tf.multiply(Xt, Wt[0]))\n",
        "N_input[1] = tf.reduce_sum(tf.multiply(Xt, Wt[1]))\n",
        "\n",
        "N_input"
      ],
      "execution_count": 0,
      "outputs": []
    },
    {
      "cell_type": "markdown",
      "metadata": {
        "id": "D5BPsZL4i1l0",
        "colab_type": "text"
      },
      "source": [
        "Let's define the activation function in TensorFlow.  It looks almost the same as in regular Python, except we use ```tf.math``` insted of ```math```:"
      ]
    },
    {
      "cell_type": "code",
      "metadata": {
        "id": "PGK5rK1menFj",
        "colab_type": "code",
        "colab": {}
      },
      "source": [
        "def ft(input):\n",
        "  output = 1 / (1 + tf.math.exp(-input))\n",
        "  return output"
      ],
      "execution_count": 0,
      "outputs": []
    },
    {
      "cell_type": "markdown",
      "metadata": {
        "id": "04njHB_ajFQ6",
        "colab_type": "text"
      },
      "source": [
        "Finish the code to compute the outputs:"
      ]
    },
    {
      "cell_type": "code",
      "metadata": {
        "id": "0n_TXkKSflZA",
        "colab_type": "code",
        "colab": {}
      },
      "source": [
        "N_output[0] = ?\n",
        "N_output[1] = ?"
      ],
      "execution_count": 0,
      "outputs": []
    },
    {
      "cell_type": "markdown",
      "metadata": {
        "id": "viKJtI3Dj36n",
        "colab_type": "text"
      },
      "source": [
        "You should get the same values as you did in regular Python:"
      ]
    },
    {
      "cell_type": "code",
      "metadata": {
        "id": "GpUI2D-Hf4eK",
        "colab_type": "code",
        "colab": {}
      },
      "source": [
        "N_output"
      ],
      "execution_count": 0,
      "outputs": []
    }
  ]
}