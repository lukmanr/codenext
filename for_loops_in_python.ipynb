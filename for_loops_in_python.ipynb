{
  "nbformat": 4,
  "nbformat_minor": 0,
  "metadata": {
    "colab": {
      "name": "for_loops_in_python.ipynb",
      "provenance": [],
      "collapsed_sections": [],
      "authorship_tag": "ABX9TyNt77mWhxDip4Vqd03MwBZZ",
      "include_colab_link": true
    },
    "kernelspec": {
      "name": "python3",
      "display_name": "Python 3"
    }
  },
  "cells": [
    {
      "cell_type": "markdown",
      "metadata": {
        "id": "view-in-github",
        "colab_type": "text"
      },
      "source": [
        "<a href=\"https://colab.research.google.com/github/lukmanr/codenext/blob/master/for_loops_in_python.ipynb\" target=\"_parent\"><img src=\"https://colab.research.google.com/assets/colab-badge.svg\" alt=\"Open In Colab\"/></a>"
      ]
    },
    {
      "cell_type": "markdown",
      "metadata": {
        "id": "VKy2DMQbA6rB",
        "colab_type": "text"
      },
      "source": [
        "# Tutorial: For loops in Python #\n",
        "\n",
        "Read the following text and execute each code cell.  Periodically you will see \"Your Turn\" folowed by an empty code cell.  Write the code in the empty cell to complete the exercise."
      ]
    },
    {
      "cell_type": "markdown",
      "metadata": {
        "id": "yptTTnsD8vUb",
        "colab_type": "text"
      },
      "source": [
        "# For loops in Python #\n",
        "Python for loops are used to loop through an iterable object (like a list, tuple, set, etc.) and perform the same action for each entry. For example, a for loop would allow us to iterate through a list, performing the same action on each item in the list."
      ]
    },
    {
      "cell_type": "markdown",
      "metadata": {
        "id": "3qw72CBv8-Dl",
        "colab_type": "text"
      },
      "source": [
        "(An interable object, by the way, is any Python object we can iterate through, or “loop” through, and return a single element at a time. Lists, for example, are iterable and return a single list entry at a time, in the order entries are listed. Strings are iterable and return one character at a time, in the order the characters appear. Etc.)\n"
      ]
    },
    {
      "cell_type": "markdown",
      "metadata": {
        "id": "iF5UyfSr890k",
        "colab_type": "text"
      },
      "source": [
        "You create a for loop by first defining the iterable object you’d like to loop through, and then defining the actions you’d like to perform on each item in that iterable object. For example, when iterating through a list, you first specify the list you’d like to iterate through, and then specify what action you’d like to perform on each list item.\n"
      ]
    },
    {
      "cell_type": "markdown",
      "metadata": {
        "id": "2JpDAf519Ivt",
        "colab_type": "text"
      },
      "source": [
        "Let’s look at a quick example: if we had a list of names stored in Python, we could use a for loop to iterate through that list, printing each name until it reached the end. Below, we’ll create our list of names, and then write a for loop that iterates through it, printing each entry on the list in sequence."
      ]
    },
    {
      "cell_type": "code",
      "metadata": {
        "id": "s7tFRKvy2KcC",
        "colab_type": "code",
        "colab": {}
      },
      "source": [
        "our_list = ['Lily', 'Brad', 'Fatima', 'Zining']\n",
        "\n",
        "for name in our_list:\n",
        "    print(name)"
      ],
      "execution_count": 0,
      "outputs": []
    },
    {
      "cell_type": "markdown",
      "metadata": {
        "id": "o8xdAiH229On",
        "colab_type": "text"
      },
      "source": [
        "This code in this simple loop raises a question, though: where did the variable ```name``` come from? We haven’t defined it previously in our code! But because for loops iterate through lists, tuples, etc. in sequence, this variable can actually be called almost anything. Python will interpret any variable name we put in that spot as referring to each list entry in sequence as the loop executes."
      ]
    },
    {
      "cell_type": "markdown",
      "metadata": {
        "id": "YbtH0RaK9Q41",
        "colab_type": "text"
      },
      "source": [
        "So, in the code above:\n",
        "\n",
        "```name``` points to 'Lily' on the first iteration of the loop… …then 'Brad' on the second iteration of the loop… …and so on. This will be the case regardless what we call that variable. So if, for example, we rewrite our code to replace ```name``` with ```x```, we’ll get the same exact result:"
      ]
    },
    {
      "cell_type": "code",
      "metadata": {
        "id": "rzISu1FS3J3k",
        "colab_type": "code",
        "colab": {}
      },
      "source": [
        "for x in our_list:\n",
        "    print(x)"
      ],
      "execution_count": 0,
      "outputs": []
    },
    {
      "cell_type": "markdown",
      "metadata": {
        "id": "QxufEb1a3Osy",
        "colab_type": "text"
      },
      "source": [
        "Note that this technique works with any iterable object. For example, strings are iterable, and we can use the same sort of for loop to iterate through each character in a string:\n"
      ]
    },
    {
      "cell_type": "code",
      "metadata": {
        "id": "9ZcqrF_g3TxX",
        "colab_type": "code",
        "colab": {}
      },
      "source": [
        "for letter in 'Lily':\n",
        "    print(letter)"
      ],
      "execution_count": 0,
      "outputs": []
    },
    {
      "cell_type": "markdown",
      "metadata": {
        "colab_type": "text",
        "id": "AwJ6SEM-ABCA"
      },
      "source": [
        "## *Your Turn* ##\n",
        "Write a for loop to print the letters of the alphabet."
      ]
    },
    {
      "cell_type": "code",
      "metadata": {
        "id": "dh8a_xGAAJsa",
        "colab_type": "code",
        "colab": {}
      },
      "source": [
        ""
      ],
      "execution_count": 0,
      "outputs": []
    },
    {
      "cell_type": "markdown",
      "metadata": {
        "id": "O_N1PQam3li-",
        "colab_type": "text"
      },
      "source": [
        "##Using For Loops with Lists of Lists##\n",
        "\n",
        "In data analysis or machine learning work, it’s unlikely that we’re going to be working with short, simple lists like the one above, though. Generally, we’ll have to work with data sets in a table format, with multiple rows and columns. This kind of data can be stored in Python as a list of lists, where each row of a table is stored as a list within the list of lists, and we can use for loops to iterate through these as well.\n",
        "\n",
        "To learn how to do this, let’s take a look at a more realistic scenario and explore this small data table that contains some US prices and US EPA range estimates for several electric cars.\n"
      ]
    },
    {
      "cell_type": "markdown",
      "metadata": {
        "id": "ZrSxAby436Rk",
        "colab_type": "text"
      },
      "source": [
        "\n",
        "| vehicle  | range  | price  |\n",
        "|---|---|---|\n",
        "| Tesla Model 3 LR  | 310  | 49900  |\n",
        "| Hyundai Ioniq EV  | 124  | 30315  |\n",
        "| Chevy Bolt | 238  |  36620 |\n",
        "\n",
        "We can express this same data set as a list of lists, like so:\n"
      ]
    },
    {
      "cell_type": "code",
      "metadata": {
        "id": "HyBY_hi_4Dst",
        "colab_type": "code",
        "colab": {}
      },
      "source": [
        "ev_data = [['vehicle', 'range', 'price'],\n",
        "           ['Tesla Model 3 LR', '310', '49900'],\n",
        "           ['Hyundai Ioniq EV', '124', '30315'],\n",
        "           ['Chevy Bolt', '238', '36620']]"
      ],
      "execution_count": 0,
      "outputs": []
    },
    {
      "cell_type": "markdown",
      "metadata": {
        "id": "evUpRRDS4JvG",
        "colab_type": "text"
      },
      "source": [
        "You may have noticed that in the list above, our range and price numbers are actually stored as strings rather than integers. It’s not uncommon that you’ll get data stored in this way, but for analysis, we’d want to convert those strings into integers so we can do some calculations with them. \n",
        "\n",
        "Let’s use a for loop to interate through our list of lists, selecting the price entry in each list and changing it from a string to an integer. To do that, we need to do a few things. First, we need to skip the first row in our table, since those are the column names and we will get an error if we attempt to convert a non-numerical string like 'range' into an integer. We can do this using list slicing to select each row after the first row using ```ev_data[1:]```. \n",
        "\n",
        "Then, we’ll loop through the list of lists, and for each iteration we’ll select the element in the range column, which is the second column in our table. We’ll assign the value found in this column to a variable called 'range'. To do this, we’ll use the index number 1 (in Python, the first entry in an iterable is at index 0, the second entry is at index 1, etc.).\n",
        "\n",
        "Finally, we’ll convert the range numbers to integers using Python’s built-in 'int() function, and replace the original strings with these integers in our data set.\n"
      ]
    },
    {
      "cell_type": "code",
      "metadata": {
        "id": "NXDBMWI_4N0s",
        "colab_type": "code",
        "colab": {}
      },
      "source": [
        "for row in ev_data[1:]:         # loop through each row in ev_data starting with row 2 (index 1)\n",
        "    ev_range = row[1]           # each car's range is found in column 2 (index 1)\n",
        "    ev_range = int(ev_range)    # convert each range number from a string to an integer\n",
        "    row[1] = ev_range           # assign range, which is now an integer, back to index 1 in each row\n",
        "\n",
        "print(ev_data)"
      ],
      "execution_count": 0,
      "outputs": []
    },
    {
      "cell_type": "markdown",
      "metadata": {
        "id": "jMwetn_U4TQT",
        "colab_type": "text"
      },
      "source": [
        "Now that we’ve got those values stored as integers, we can also use a for loop to do some calculations. Let’s say, for example, that we want to figure out the average range of an EV on this list. We’d need to add the range numbers together, and then divide them by the total number of cars in our list.\n",
        "\n",
        "Again, we can use a for loop to select the specific column we need within our data set. We’ll start by creating a variable called total_range where we can store the sum of the ranges. Then we’ll write another for loop, again skipping the header row, and again identifying the second column (index 1) as the range value.\n",
        "\n",
        "After that, all we need to do is add this value to total_range within our for loop, and then calculate the value using total_range divided by the number of cars after the loop has completed.\n",
        "\n",
        "(Note that we’ll calculate the number of cars by counting the length of our list, minus the header row, in the code below. With a list as short as ours, we could also simply divide by 3, since the number of cars is very easy to count, but that would break our calculation if additional car data was added to the list. For that reason, it’s better to use len() to calculate the length of our car list in code so that if additional entries are added to our data set in the future, we can re-run this code and it will still produce the correct answer.)\n"
      ]
    },
    {
      "cell_type": "code",
      "metadata": {
        "id": "qmRPw0IX4WtH",
        "colab_type": "code",
        "colab": {}
      },
      "source": [
        "total_range = 0                     # create a variable to store the total range number\n",
        "\n",
        "for row in ev_data[1:]:             # loop through each row in ev_data starting with row 2 (index 1)\n",
        "    ev_range = row[1]               # each car's range is found in column 2 (index 1)\n",
        "    total_range += ev_range         # add this number to the number stored in total_range\n",
        "\n",
        "number_of_cars = len(ev_data[1:])   # calculate the length of our list, minus the header row\n",
        "\n",
        "print(total_range / number_of_cars) # print the average range"
      ],
      "execution_count": 0,
      "outputs": []
    },
    {
      "cell_type": "markdown",
      "metadata": {
        "id": "G7IElB_O4hyc",
        "colab_type": "text"
      },
      "source": [
        "Python for loops are powerful, and you can nest more complex instructions inside of them. To demonstrate this, let’s repeat the above two steps for our 'price' column, this time within a single For Loop.\n"
      ]
    },
    {
      "cell_type": "code",
      "metadata": {
        "id": "s9G3nGSA4kzf",
        "colab_type": "code",
        "colab": {}
      },
      "source": [
        "total_price = 0                     # create a variable to store the total range number\n",
        "\n",
        "for row in ev_data[1:]:             # loop through each row in ev_data starting with row 2 (index 1)\n",
        "    price = row[2]                  # each car's price is found in column 3 (index 2)\n",
        "    price = int(price)              # convert each price number from a string to an integer\n",
        "    row[2] = price                  # assign price, which is now an integer, back to index 2 in each row\n",
        "    total_price += price            # add each car's price to total_price\n",
        "\n",
        "number_of_cars = len(ev_data[1:])   # calculate the length of our list, minus the header row\n",
        "\n",
        "print(total_price / number_of_cars) # print the average price"
      ],
      "execution_count": 0,
      "outputs": []
    },
    {
      "cell_type": "markdown",
      "metadata": {
        "id": "gtA6Mb214ppC",
        "colab_type": "text"
      },
      "source": [
        "We can also nest other elements, like If Else statements and even other for loops, within for loops.\n",
        "\n",
        "For example, imagine we wanted to find every car with a range of greater than 200 miles in our list. We can start by creating a new empty list to hold our long-range car data. Then, we’ll use a for loop to iterate through ev_data, the list of lists containing car data we created earlier, appending a car’s row to our long-range list only if the its range value is above 200:\n"
      ]
    },
    {
      "cell_type": "code",
      "metadata": {
        "id": "cULH6QW64s2N",
        "colab_type": "code",
        "colab": {}
      },
      "source": [
        "long_range_car_list = []       # creating a new list to store our long range car data\n",
        "\n",
        "for row in ev_data[1:]:        # iterate through ev_data, skipping the header row\n",
        "    ev_range = row[1]          # assign the range number, which is at index 1 in the row, to the range variable\n",
        "    if ev_range > 200:         # append the whole row to long-range list if range is higher than 200\n",
        "        long_range_car_list.append(row)\n",
        "\n",
        "print(long_range_car_list)"
      ],
      "execution_count": 0,
      "outputs": []
    },
    {
      "cell_type": "markdown",
      "metadata": {
        "id": "lkg2xvvm4xjf",
        "colab_type": "text"
      },
      "source": [
        "These operations would also be simple to perform by hand with such a tiny data set, of course. But these same techniques will work on data sets with thousands and thousands of rows, which can make cleaning, sorting, and analyzing huge datasets into very quick work."
      ]
    },
    {
      "cell_type": "markdown",
      "metadata": {
        "colab_type": "text",
        "id": "jn5Da8N2AXmL"
      },
      "source": [
        "## *Your Turn* ##\n",
        "Create a list of 5 products.  Each product should have a name, description and a price.  Write a for loop to print the name of a product in your list if it's price is less than 100 dollars."
      ]
    },
    {
      "cell_type": "code",
      "metadata": {
        "id": "XF4_acJAA34t",
        "colab_type": "code",
        "colab": {}
      },
      "source": [
        ""
      ],
      "execution_count": 0,
      "outputs": []
    },
    {
      "cell_type": "markdown",
      "metadata": {
        "id": "C4HTAX0H42Dg",
        "colab_type": "text"
      },
      "source": [
        "##Other Useful Techniques: Range, Break, and Continue##\n",
        "\n",
        "You can get a surprising amount of mileage out of for loops just by mastering the techniques described above, but let’s dive even deeper and learn a few other things that may be helpful, even if you use them a bit less frequently in the context of data science work.\n"
      ]
    },
    {
      "cell_type": "markdown",
      "metadata": {
        "id": "X6XguaOK5ByZ",
        "colab_type": "text"
      },
      "source": [
        "###Range###\n",
        "For loops can be used in tandem with Python’s range() function to iterate through each number in a specified range. For example:\n"
      ]
    },
    {
      "cell_type": "code",
      "metadata": {
        "id": "uD9V1Bzu5Fwz",
        "colab_type": "code",
        "colab": {}
      },
      "source": [
        "for x in range(5, 9):\n",
        "    print(x)"
      ],
      "execution_count": 0,
      "outputs": []
    },
    {
      "cell_type": "markdown",
      "metadata": {
        "id": "W5uR4qPk5JSv",
        "colab_type": "text"
      },
      "source": [
        "Note that Python doesn’t include the maximum value of a range in the range count, which is why the number 9 doesn’t appear above. If we wanted this code to count from 5 to 9 including 9, we’d need to change ```range(5, 9)``` to ```range(5, 10)```:"
      ]
    },
    {
      "cell_type": "code",
      "metadata": {
        "id": "JD-aNWlU5Om6",
        "colab_type": "code",
        "colab": {}
      },
      "source": [
        "for x in range(5, 10):\n",
        "    print(x)"
      ],
      "execution_count": 0,
      "outputs": []
    },
    {
      "cell_type": "markdown",
      "metadata": {
        "id": "XcPFuW31_Wi-",
        "colab_type": "text"
      },
      "source": [
        "## *Your Turn* ##\n",
        "Write a for loop to print the squares of the first 7 numbers using ```range()```"
      ]
    },
    {
      "cell_type": "code",
      "metadata": {
        "id": "iQxbQnoq_rs6",
        "colab_type": "code",
        "colab": {}
      },
      "source": [
        ""
      ],
      "execution_count": 0,
      "outputs": []
    },
    {
      "cell_type": "markdown",
      "metadata": {
        "id": "6kjOvc9z5Tt4",
        "colab_type": "text"
      },
      "source": [
        "If you only specify a single number in your ```range()``` function, Python will treat that as the maximum value, and assign a default minimum value of zero:"
      ]
    },
    {
      "cell_type": "code",
      "metadata": {
        "id": "_zhRbWVe5XqP",
        "colab_type": "code",
        "colab": {}
      },
      "source": [
        "for x in range(3):\n",
        "    print(x)"
      ],
      "execution_count": 0,
      "outputs": []
    },
    {
      "cell_type": "markdown",
      "metadata": {
        "id": "WI_OkFwh6gZV",
        "colab_type": "text"
      },
      "source": [
        "You can even add a third argument to the range() function to specify that you’d like to count in increments of a specific number. As you can see above, the default value is 1, but if you add a third argument of 3, for example, you can use range() with a for loop to count up in threes:\n"
      ]
    },
    {
      "cell_type": "code",
      "metadata": {
        "id": "c4jHADuh6l6P",
        "colab_type": "code",
        "colab": {}
      },
      "source": [
        "for x in range(0, 9, 3):\n",
        "    print(x)"
      ],
      "execution_count": 0,
      "outputs": []
    },
    {
      "cell_type": "markdown",
      "metadata": {
        "colab_type": "text",
        "id": "QlFGccllBbcn"
      },
      "source": [
        "## *Your Turn* ##\n",
        "Write a for loop to print the even numbers between 1 and 100, using ```range()```."
      ]
    },
    {
      "cell_type": "code",
      "metadata": {
        "id": "qY9ijMzNBk5z",
        "colab_type": "code",
        "colab": {}
      },
      "source": [
        ""
      ],
      "execution_count": 0,
      "outputs": []
    },
    {
      "cell_type": "markdown",
      "metadata": {
        "id": "jQHZsJt46qq2",
        "colab_type": "text"
      },
      "source": [
        "###Break###\n",
        "By default, a Python for loop will loop through each possible iteration of the interable object you’ve assigned it. Normally when we’re using a for loop, that’s fine, because we want to perform the same action on each item in our list (for example).\n",
        "\n",
        "Sometimes, though, we may want to stop your loop if a certain condition is met. In that circumstance, the break statement is useful. When used with an if statement inside of a for loop, break allows us to break out of that loop before its conclusion.\n",
        "\n",
        "Let’s take a look at a quick example first, using the list of names we created earlier called our_list):\n"
      ]
    },
    {
      "cell_type": "code",
      "metadata": {
        "id": "NKZG5xML6sAm",
        "colab_type": "code",
        "colab": {}
      },
      "source": [
        "for name in our_list:\n",
        "    break\n",
        "    print(name)"
      ],
      "execution_count": 0,
      "outputs": []
    },
    {
      "cell_type": "markdown",
      "metadata": {
        "id": "TTauOlzi6xN7",
        "colab_type": "text"
      },
      "source": [
        "When we run this code, nothing is printed. That’s because the break statement comes before print(name) in our for loop. When Python sees break, it stops executing the for loop and code that appears after break in the loop doesn’t get run.\n",
        "\n",
        "Let’s add an if statement to this loop, so that we break out of the loop when Python gets to the name Zining:\n"
      ]
    },
    {
      "cell_type": "code",
      "metadata": {
        "id": "L9LcfhA860Mw",
        "colab_type": "code",
        "colab": {}
      },
      "source": [
        "for name in our_list:\n",
        "    if name == 'Zining':\n",
        "        break\n",
        "    print(name)"
      ],
      "execution_count": 0,
      "outputs": []
    },
    {
      "cell_type": "markdown",
      "metadata": {
        "id": "bWcmTCWi64UL",
        "colab_type": "text"
      },
      "source": [
        "Here, we can see that the name Zining wasn’t printed. Here’s what’s happening with each loop iteration:\n",
        "\n",
        "\n",
        "1.   Python checks to see if the first name is ‘Zining’. It isn’t, so it continues executing the code below our if statement, and prints the first name.\n",
        "\n",
        "2.   Python checks to see if the second name is ‘Zining’. It isn’t, so it continues executing the code below our if statement, and prints the second name.\n",
        "\n",
        "3.   Python checks to see if the third name is ‘Zining’. It isn’t, so it continues executing the code below our if statement, and prints the third name.\n",
        "\n",
        "4.   Python checks to see if the fourth name is ‘Zining’. It is, so break is executed and the for loop ends.\n",
        "\n",
        "Let’s return to the code we wrote for collecting long-range EV car data and work through one more example. We’ll insert a break statement that stops the look as soon as it encounters the string 'Tesla':\n",
        "\n"
      ]
    },
    {
      "cell_type": "code",
      "metadata": {
        "id": "7zijIdru69JX",
        "colab_type": "code",
        "colab": {}
      },
      "source": [
        "long_range_car_list = []    # creating our empty long-range car list again\n",
        "\n",
        "for row in ev_data[1:]:     # iterate through ev_data as before looking for cars with a range > 200\n",
        "    ev_range = row[1]\n",
        "    if ev_range > 200:\n",
        "        long_range_car_list.append(row)\n",
        "    if 'Tesla' in row[0]:   # but if 'Tesla' appears in the vehicle column, end the loop\n",
        "            break\n",
        "\n",
        "print(long_range_car_list)"
      ],
      "execution_count": 0,
      "outputs": []
    },
    {
      "cell_type": "markdown",
      "metadata": {
        "id": "4qqm1lZd7HtZ",
        "colab_type": "text"
      },
      "source": [
        "In the code above, we can see that the Tesla was still added to long_range_car_list, because we appended it to that list before the if statement where we used break. The Chevy Bolt was not added to our list, because although it does have a range of more than 200 miles, break ended the loop before Python reached the Chevy Bolt row.\n",
        "\n",
        "(Remember, for loops execute in sequential order. If the Bolt was listed before the Tesla in our original data set, it would have been included in long_range_car_list).\n",
        "\n"
      ]
    },
    {
      "cell_type": "markdown",
      "metadata": {
        "colab_type": "text",
        "id": "RcF7LXiDBu8Y"
      },
      "source": [
        "## *Your Turn* ##\n",
        "Write a loop to print all the cars with a range over 300 miles, but stop printing if you reach a car with a price under $35000."
      ]
    },
    {
      "cell_type": "code",
      "metadata": {
        "id": "wGUEe6WVB2vx",
        "colab_type": "code",
        "colab": {}
      },
      "source": [
        ""
      ],
      "execution_count": 0,
      "outputs": []
    },
    {
      "cell_type": "markdown",
      "metadata": {
        "id": "RVj9GCRSBwmY",
        "colab_type": "text"
      },
      "source": [
        "###Continue###\n",
        "When we’re looping through an iterable object like a list, we might also encounter situations where we’d like to skip a particular row or rows. For simple situations like skipping a header row, we can use list slicing, but if we want to skip rows based on more complex conditions, this quickly becomes impractical. Instead, we can use the continue statement to skip a single iteration (“loop”) of a for loop and move to the next.\n",
        "\n",
        "When Python sees continue while executing a for loop on a list, for example, it will stop at that point and move on to the next item on the list. Any code that comes below the continue will not be executed.\n",
        "\n",
        "Let’s go back our list of names (our_names) and use continue with an if statement to end a loop iteration before printing if the name is ‘Brad’:\n"
      ]
    },
    {
      "cell_type": "code",
      "metadata": {
        "id": "WfDz2X2C7Jqx",
        "colab_type": "code",
        "colab": {}
      },
      "source": [
        "for name in our_list:\n",
        "    if name == 'Brad':\n",
        "        continue\n",
        "    print(name)"
      ],
      "execution_count": 0,
      "outputs": []
    },
    {
      "cell_type": "markdown",
      "metadata": {
        "id": "m0JI5xL-7Pjn",
        "colab_type": "text"
      },
      "source": [
        "Above, we can see that Brad’s name was skipped, and the rest of the names in our list were printed in sequence. That illustrates the difference between break and continue in a nutshell:\n",
        "\n",
        "break ends the loop entirely. When Python executes break, the for loop is over.\n",
        "continue ends a specific iteration of the loop and moves to the next item in the list. When Python executes continue it moves immediately to the next loop iteration, but it does not end the loop entirely.\n",
        "\n",
        "To get some more practice with continue, let’s make a list of short-range EVs, using continue to take a slightly different approach. Instead of identifying the EVs with less than 200 miles of range, we’ll write a for loop that adds every EV to our short-range list, but with a continue statement before we append to the new list that runs if the range is greater than 200:\n",
        "\n"
      ]
    },
    {
      "cell_type": "code",
      "metadata": {
        "id": "wn7GQzi77R62",
        "colab_type": "code",
        "colab": {}
      },
      "source": [
        "short_range_car_list = []               # creating our empty short-range car list\n",
        "\n",
        "for row in ev_data[1:]:                 # iterate through ev_data as before\n",
        "    ev_range = row[1]\n",
        "    if ev_range > 200:                  #  if the car has a range of > 200\n",
        "        continue                        # end the loop here; do not execute the code below, continue to the next row\n",
        "    short_range_car_list.append(row)    # append the row to our short-range car list\n",
        "\n",
        "\n",
        "print(short_range_car_list)"
      ],
      "execution_count": 0,
      "outputs": []
    },
    {
      "cell_type": "markdown",
      "metadata": {
        "id": "CPrTGgjs7W8P",
        "colab_type": "text"
      },
      "source": [
        "That’s probably not the most efficient and readable way to create our short-range car list, but it does demonstrate how continue works, so let’s walk through precisely what’s happening here.\n",
        "\n",
        "\n",
        "\n",
        "1.   On its first loop, Python is looking at the Tesla row. That car does have an EV range of more than 200 miles, so Python sees the if statement is true, and executes the continue nested inside that if statement, which makes it immediately jump to the next row of ev_data to begin its next loop.\n",
        "\n",
        "2.   On the second loop, Python is looking at the next row, which is the Hyundai row. That car has a range of under 200 miles, so Python sees that the conditional if statement is not met, and executes the rest of the code in the for loop, appending the Hyundai row to short_range_car_list.\n",
        "\n",
        "3.   On the third and final loop, Python is looking at the Chevy row. That car has a range of more than 200 miles, which means the conditional if statement is true. Thus, Python once again executes the nested continue, which concludes the loop and, since there are no more rows of data in our data set, ends the for loop entirely."
      ]
    }
  ]
}